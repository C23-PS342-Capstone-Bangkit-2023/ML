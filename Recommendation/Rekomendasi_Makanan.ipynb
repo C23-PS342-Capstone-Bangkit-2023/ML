{
  "nbformat": 4,
  "nbformat_minor": 0,
  "metadata": {
    "colab": {
      "provenance": []
    },
    "kernelspec": {
      "name": "python3",
      "display_name": "Python 3"
    },
    "language_info": {
      "name": "python"
    }
  },
  "cells": [
    {
      "cell_type": "markdown",
      "source": [
        "# Food Recommendation Based on User Meal History"
      ],
      "metadata": {
        "id": "RwbVbv_rPQP6"
      }
    },
    {
      "cell_type": "markdown",
      "source": [
        "## Introduction\n",
        "Recommendation based on a dataset of food items. It uses the TF-IDF (Term Frequency-Inverse Document Frequency) vectorization technique and the K-Nearest Neighbors (KNN) algorithm to find the most similar food items based on user history meal."
      ],
      "metadata": {
        "id": "gkCpe-SP0Mmc"
      }
    },
    {
      "cell_type": "markdown",
      "source": [
        "## Import all Python library used in this project"
      ],
      "metadata": {
        "id": "3yRVeJLu1O21"
      }
    },
    {
      "cell_type": "code",
      "execution_count": null,
      "metadata": {
        "id": "9B9dRLs-xwzD"
      },
      "outputs": [],
      "source": [
        "import pandas as pd\n",
        "import numpy as np\n",
        "\n",
        "from sklearn.feature_extraction.text import TfidfVectorizer\n",
        "from sklearn.neighbors import NearestNeighbors\n",
        "from sklearn.metrics.pairwise import cosine_similarity"
      ]
    },
    {
      "cell_type": "code",
      "source": [
        "from google.colab import drive\n",
        "drive.mount('/content/drive')"
      ],
      "metadata": {
        "colab": {
          "base_uri": "https://localhost:8080/"
        },
        "id": "pGslEVPmC7v4",
        "outputId": "7de7c84f-4b22-4ecb-c364-b239be404a86"
      },
      "execution_count": null,
      "outputs": [
        {
          "output_type": "stream",
          "name": "stdout",
          "text": [
            "Mounted at /content/drive\n"
          ]
        }
      ]
    },
    {
      "cell_type": "markdown",
      "source": [
        "## Data Understanding"
      ],
      "metadata": {
        "id": "NHYD8Z4d2cQx"
      }
    },
    {
      "cell_type": "markdown",
      "source": [
        "Read the food data using the `read_csv` function from pandas."
      ],
      "metadata": {
        "id": "N9Vf2uNT6NgG"
      }
    },
    {
      "cell_type": "code",
      "source": [
        "food_data = pd.read_csv('/content/drive/MyDrive/Data nutrisi/nutrition_dataset.csv')"
      ],
      "metadata": {
        "id": "_XKhX42fFX2E"
      },
      "execution_count": null,
      "outputs": []
    },
    {
      "cell_type": "markdown",
      "source": [
        "To find out brief information including the number of rows and columns, the data type of each column, and the number of non-null values in each column of the food data, the info() function of the pandas library is used."
      ],
      "metadata": {
        "id": "FlYENBz2MW_Q"
      }
    },
    {
      "cell_type": "code",
      "source": [
        "food_data.info()"
      ],
      "metadata": {
        "colab": {
          "base_uri": "https://localhost:8080/"
        },
        "id": "XyPcvjtx7C0-",
        "outputId": "cbe5d9c7-bfd7-44c7-f3d1-7a5af9941d32"
      },
      "execution_count": null,
      "outputs": [
        {
          "output_type": "stream",
          "name": "stdout",
          "text": [
            "<class 'pandas.core.frame.DataFrame'>\n",
            "RangeIndex: 77 entries, 0 to 76\n",
            "Data columns (total 9 columns):\n",
            " #   Column          Non-Null Count  Dtype  \n",
            "---  ------          --------------  -----  \n",
            " 0   id              77 non-null     object \n",
            " 1   makanan         77 non-null     object \n",
            " 2   kalori          77 non-null     float64\n",
            " 3   protein         77 non-null     float64\n",
            " 4   lemak           77 non-null     float64\n",
            " 5   karbohidrat     77 non-null     float64\n",
            " 6   Kategori        77 non-null     object \n",
            " 7   vegan/nonvegan  77 non-null     object \n",
            " 8   tag             77 non-null     object \n",
            "dtypes: float64(4), object(5)\n",
            "memory usage: 5.5+ KB\n"
          ]
        }
      ]
    },
    {
      "cell_type": "markdown",
      "source": [
        "to find out information about a categorical column we use the describe(include - \"0\") function from the pandas library"
      ],
      "metadata": {
        "id": "i-pA7flbNarT"
      }
    },
    {
      "cell_type": "code",
      "source": [
        "food_data.describe(include = \"O\")"
      ],
      "metadata": {
        "colab": {
          "base_uri": "https://localhost:8080/",
          "height": 175
        },
        "id": "TodDKp1RNoD3",
        "outputId": "f28b34df-7c1d-4a06-ba18-ec7dd032792b"
      },
      "execution_count": null,
      "outputs": [
        {
          "output_type": "execute_result",
          "data": {
            "text/plain": [
              "           id     makanan Kategori vegan/nonvegan            tag\n",
              "count      77          77       77             77             77\n",
              "unique     77          77        7              2             55\n",
              "top     M-001  ayam bakar     Ikan      non-vegan  goreng, gurih\n",
              "freq        1           1       21             41              8"
            ],
            "text/html": [
              "\n",
              "  <div id=\"df-14bee8f3-1cd9-4276-9fb8-18c6d6c84698\">\n",
              "    <div class=\"colab-df-container\">\n",
              "      <div>\n",
              "<style scoped>\n",
              "    .dataframe tbody tr th:only-of-type {\n",
              "        vertical-align: middle;\n",
              "    }\n",
              "\n",
              "    .dataframe tbody tr th {\n",
              "        vertical-align: top;\n",
              "    }\n",
              "\n",
              "    .dataframe thead th {\n",
              "        text-align: right;\n",
              "    }\n",
              "</style>\n",
              "<table border=\"1\" class=\"dataframe\">\n",
              "  <thead>\n",
              "    <tr style=\"text-align: right;\">\n",
              "      <th></th>\n",
              "      <th>id</th>\n",
              "      <th>makanan</th>\n",
              "      <th>Kategori</th>\n",
              "      <th>vegan/nonvegan</th>\n",
              "      <th>tag</th>\n",
              "    </tr>\n",
              "  </thead>\n",
              "  <tbody>\n",
              "    <tr>\n",
              "      <th>count</th>\n",
              "      <td>77</td>\n",
              "      <td>77</td>\n",
              "      <td>77</td>\n",
              "      <td>77</td>\n",
              "      <td>77</td>\n",
              "    </tr>\n",
              "    <tr>\n",
              "      <th>unique</th>\n",
              "      <td>77</td>\n",
              "      <td>77</td>\n",
              "      <td>7</td>\n",
              "      <td>2</td>\n",
              "      <td>55</td>\n",
              "    </tr>\n",
              "    <tr>\n",
              "      <th>top</th>\n",
              "      <td>M-001</td>\n",
              "      <td>ayam bakar</td>\n",
              "      <td>Ikan</td>\n",
              "      <td>non-vegan</td>\n",
              "      <td>goreng, gurih</td>\n",
              "    </tr>\n",
              "    <tr>\n",
              "      <th>freq</th>\n",
              "      <td>1</td>\n",
              "      <td>1</td>\n",
              "      <td>21</td>\n",
              "      <td>41</td>\n",
              "      <td>8</td>\n",
              "    </tr>\n",
              "  </tbody>\n",
              "</table>\n",
              "</div>\n",
              "      <button class=\"colab-df-convert\" onclick=\"convertToInteractive('df-14bee8f3-1cd9-4276-9fb8-18c6d6c84698')\"\n",
              "              title=\"Convert this dataframe to an interactive table.\"\n",
              "              style=\"display:none;\">\n",
              "        \n",
              "  <svg xmlns=\"http://www.w3.org/2000/svg\" height=\"24px\"viewBox=\"0 0 24 24\"\n",
              "       width=\"24px\">\n",
              "    <path d=\"M0 0h24v24H0V0z\" fill=\"none\"/>\n",
              "    <path d=\"M18.56 5.44l.94 2.06.94-2.06 2.06-.94-2.06-.94-.94-2.06-.94 2.06-2.06.94zm-11 1L8.5 8.5l.94-2.06 2.06-.94-2.06-.94L8.5 2.5l-.94 2.06-2.06.94zm10 10l.94 2.06.94-2.06 2.06-.94-2.06-.94-.94-2.06-.94 2.06-2.06.94z\"/><path d=\"M17.41 7.96l-1.37-1.37c-.4-.4-.92-.59-1.43-.59-.52 0-1.04.2-1.43.59L10.3 9.45l-7.72 7.72c-.78.78-.78 2.05 0 2.83L4 21.41c.39.39.9.59 1.41.59.51 0 1.02-.2 1.41-.59l7.78-7.78 2.81-2.81c.8-.78.8-2.07 0-2.86zM5.41 20L4 18.59l7.72-7.72 1.47 1.35L5.41 20z\"/>\n",
              "  </svg>\n",
              "      </button>\n",
              "      \n",
              "  <style>\n",
              "    .colab-df-container {\n",
              "      display:flex;\n",
              "      flex-wrap:wrap;\n",
              "      gap: 12px;\n",
              "    }\n",
              "\n",
              "    .colab-df-convert {\n",
              "      background-color: #E8F0FE;\n",
              "      border: none;\n",
              "      border-radius: 50%;\n",
              "      cursor: pointer;\n",
              "      display: none;\n",
              "      fill: #1967D2;\n",
              "      height: 32px;\n",
              "      padding: 0 0 0 0;\n",
              "      width: 32px;\n",
              "    }\n",
              "\n",
              "    .colab-df-convert:hover {\n",
              "      background-color: #E2EBFA;\n",
              "      box-shadow: 0px 1px 2px rgba(60, 64, 67, 0.3), 0px 1px 3px 1px rgba(60, 64, 67, 0.15);\n",
              "      fill: #174EA6;\n",
              "    }\n",
              "\n",
              "    [theme=dark] .colab-df-convert {\n",
              "      background-color: #3B4455;\n",
              "      fill: #D2E3FC;\n",
              "    }\n",
              "\n",
              "    [theme=dark] .colab-df-convert:hover {\n",
              "      background-color: #434B5C;\n",
              "      box-shadow: 0px 1px 3px 1px rgba(0, 0, 0, 0.15);\n",
              "      filter: drop-shadow(0px 1px 2px rgba(0, 0, 0, 0.3));\n",
              "      fill: #FFFFFF;\n",
              "    }\n",
              "  </style>\n",
              "\n",
              "      <script>\n",
              "        const buttonEl =\n",
              "          document.querySelector('#df-14bee8f3-1cd9-4276-9fb8-18c6d6c84698 button.colab-df-convert');\n",
              "        buttonEl.style.display =\n",
              "          google.colab.kernel.accessAllowed ? 'block' : 'none';\n",
              "\n",
              "        async function convertToInteractive(key) {\n",
              "          const element = document.querySelector('#df-14bee8f3-1cd9-4276-9fb8-18c6d6c84698');\n",
              "          const dataTable =\n",
              "            await google.colab.kernel.invokeFunction('convertToInteractive',\n",
              "                                                     [key], {});\n",
              "          if (!dataTable) return;\n",
              "\n",
              "          const docLinkHtml = 'Like what you see? Visit the ' +\n",
              "            '<a target=\"_blank\" href=https://colab.research.google.com/notebooks/data_table.ipynb>data table notebook</a>'\n",
              "            + ' to learn more about interactive tables.';\n",
              "          element.innerHTML = '';\n",
              "          dataTable['output_type'] = 'display_data';\n",
              "          await google.colab.output.renderOutput(dataTable, element);\n",
              "          const docLink = document.createElement('div');\n",
              "          docLink.innerHTML = docLinkHtml;\n",
              "          element.appendChild(docLink);\n",
              "        }\n",
              "      </script>\n",
              "    </div>\n",
              "  </div>\n",
              "  "
            ]
          },
          "metadata": {},
          "execution_count": 5
        }
      ]
    },
    {
      "cell_type": "markdown",
      "source": [
        "to display the first 5 data we use the head() function from the pandas library."
      ],
      "metadata": {
        "id": "slC5cL_wVgDZ"
      }
    },
    {
      "cell_type": "code",
      "source": [
        "food_data.head()"
      ],
      "metadata": {
        "colab": {
          "base_uri": "https://localhost:8080/",
          "height": 206
        },
        "id": "Y_85RQ2uWRwz",
        "outputId": "f188f9b4-10c3-4a4b-c96e-5403ed800485"
      },
      "execution_count": null,
      "outputs": [
        {
          "output_type": "execute_result",
          "data": {
            "text/plain": [
              "      id      makanan  kalori  protein  lemak  karbohidrat  Kategori  \\\n",
              "0  M-001   ayam bakar   242.0     30.0   14.0         10.0    Daging   \n",
              "1  M-002  ayam geprek   240.0     24.0   15.0         12.0    Daging   \n",
              "2  M-003        Bakso   200.0     15.0   10.0         15.0  Serealia   \n",
              "3  M-004    gado-gado   137.0      6.1    3.2         21.0     Sayur   \n",
              "4  M-005     Mie ayam   102.0      6.2    3.9         10.5  Serealia   \n",
              "\n",
              "  vegan/nonvegan                          tag  \n",
              "0      non-vegan       panggang, gurih, manis  \n",
              "1      non-vegan                goreng, pedas  \n",
              "2          vegan  rebus, rempah, gurih, pedas  \n",
              "3          vegan         mentah, gurih, pedas  \n",
              "4          vegan            mie, rebus, gurih  "
            ],
            "text/html": [
              "\n",
              "  <div id=\"df-c81cfb2e-929d-41dd-8c62-4159810f4c7d\">\n",
              "    <div class=\"colab-df-container\">\n",
              "      <div>\n",
              "<style scoped>\n",
              "    .dataframe tbody tr th:only-of-type {\n",
              "        vertical-align: middle;\n",
              "    }\n",
              "\n",
              "    .dataframe tbody tr th {\n",
              "        vertical-align: top;\n",
              "    }\n",
              "\n",
              "    .dataframe thead th {\n",
              "        text-align: right;\n",
              "    }\n",
              "</style>\n",
              "<table border=\"1\" class=\"dataframe\">\n",
              "  <thead>\n",
              "    <tr style=\"text-align: right;\">\n",
              "      <th></th>\n",
              "      <th>id</th>\n",
              "      <th>makanan</th>\n",
              "      <th>kalori</th>\n",
              "      <th>protein</th>\n",
              "      <th>lemak</th>\n",
              "      <th>karbohidrat</th>\n",
              "      <th>Kategori</th>\n",
              "      <th>vegan/nonvegan</th>\n",
              "      <th>tag</th>\n",
              "    </tr>\n",
              "  </thead>\n",
              "  <tbody>\n",
              "    <tr>\n",
              "      <th>0</th>\n",
              "      <td>M-001</td>\n",
              "      <td>ayam bakar</td>\n",
              "      <td>242.0</td>\n",
              "      <td>30.0</td>\n",
              "      <td>14.0</td>\n",
              "      <td>10.0</td>\n",
              "      <td>Daging</td>\n",
              "      <td>non-vegan</td>\n",
              "      <td>panggang, gurih, manis</td>\n",
              "    </tr>\n",
              "    <tr>\n",
              "      <th>1</th>\n",
              "      <td>M-002</td>\n",
              "      <td>ayam geprek</td>\n",
              "      <td>240.0</td>\n",
              "      <td>24.0</td>\n",
              "      <td>15.0</td>\n",
              "      <td>12.0</td>\n",
              "      <td>Daging</td>\n",
              "      <td>non-vegan</td>\n",
              "      <td>goreng, pedas</td>\n",
              "    </tr>\n",
              "    <tr>\n",
              "      <th>2</th>\n",
              "      <td>M-003</td>\n",
              "      <td>Bakso</td>\n",
              "      <td>200.0</td>\n",
              "      <td>15.0</td>\n",
              "      <td>10.0</td>\n",
              "      <td>15.0</td>\n",
              "      <td>Serealia</td>\n",
              "      <td>vegan</td>\n",
              "      <td>rebus, rempah, gurih, pedas</td>\n",
              "    </tr>\n",
              "    <tr>\n",
              "      <th>3</th>\n",
              "      <td>M-004</td>\n",
              "      <td>gado-gado</td>\n",
              "      <td>137.0</td>\n",
              "      <td>6.1</td>\n",
              "      <td>3.2</td>\n",
              "      <td>21.0</td>\n",
              "      <td>Sayur</td>\n",
              "      <td>vegan</td>\n",
              "      <td>mentah, gurih, pedas</td>\n",
              "    </tr>\n",
              "    <tr>\n",
              "      <th>4</th>\n",
              "      <td>M-005</td>\n",
              "      <td>Mie ayam</td>\n",
              "      <td>102.0</td>\n",
              "      <td>6.2</td>\n",
              "      <td>3.9</td>\n",
              "      <td>10.5</td>\n",
              "      <td>Serealia</td>\n",
              "      <td>vegan</td>\n",
              "      <td>mie, rebus, gurih</td>\n",
              "    </tr>\n",
              "  </tbody>\n",
              "</table>\n",
              "</div>\n",
              "      <button class=\"colab-df-convert\" onclick=\"convertToInteractive('df-c81cfb2e-929d-41dd-8c62-4159810f4c7d')\"\n",
              "              title=\"Convert this dataframe to an interactive table.\"\n",
              "              style=\"display:none;\">\n",
              "        \n",
              "  <svg xmlns=\"http://www.w3.org/2000/svg\" height=\"24px\"viewBox=\"0 0 24 24\"\n",
              "       width=\"24px\">\n",
              "    <path d=\"M0 0h24v24H0V0z\" fill=\"none\"/>\n",
              "    <path d=\"M18.56 5.44l.94 2.06.94-2.06 2.06-.94-2.06-.94-.94-2.06-.94 2.06-2.06.94zm-11 1L8.5 8.5l.94-2.06 2.06-.94-2.06-.94L8.5 2.5l-.94 2.06-2.06.94zm10 10l.94 2.06.94-2.06 2.06-.94-2.06-.94-.94-2.06-.94 2.06-2.06.94z\"/><path d=\"M17.41 7.96l-1.37-1.37c-.4-.4-.92-.59-1.43-.59-.52 0-1.04.2-1.43.59L10.3 9.45l-7.72 7.72c-.78.78-.78 2.05 0 2.83L4 21.41c.39.39.9.59 1.41.59.51 0 1.02-.2 1.41-.59l7.78-7.78 2.81-2.81c.8-.78.8-2.07 0-2.86zM5.41 20L4 18.59l7.72-7.72 1.47 1.35L5.41 20z\"/>\n",
              "  </svg>\n",
              "      </button>\n",
              "      \n",
              "  <style>\n",
              "    .colab-df-container {\n",
              "      display:flex;\n",
              "      flex-wrap:wrap;\n",
              "      gap: 12px;\n",
              "    }\n",
              "\n",
              "    .colab-df-convert {\n",
              "      background-color: #E8F0FE;\n",
              "      border: none;\n",
              "      border-radius: 50%;\n",
              "      cursor: pointer;\n",
              "      display: none;\n",
              "      fill: #1967D2;\n",
              "      height: 32px;\n",
              "      padding: 0 0 0 0;\n",
              "      width: 32px;\n",
              "    }\n",
              "\n",
              "    .colab-df-convert:hover {\n",
              "      background-color: #E2EBFA;\n",
              "      box-shadow: 0px 1px 2px rgba(60, 64, 67, 0.3), 0px 1px 3px 1px rgba(60, 64, 67, 0.15);\n",
              "      fill: #174EA6;\n",
              "    }\n",
              "\n",
              "    [theme=dark] .colab-df-convert {\n",
              "      background-color: #3B4455;\n",
              "      fill: #D2E3FC;\n",
              "    }\n",
              "\n",
              "    [theme=dark] .colab-df-convert:hover {\n",
              "      background-color: #434B5C;\n",
              "      box-shadow: 0px 1px 3px 1px rgba(0, 0, 0, 0.15);\n",
              "      filter: drop-shadow(0px 1px 2px rgba(0, 0, 0, 0.3));\n",
              "      fill: #FFFFFF;\n",
              "    }\n",
              "  </style>\n",
              "\n",
              "      <script>\n",
              "        const buttonEl =\n",
              "          document.querySelector('#df-c81cfb2e-929d-41dd-8c62-4159810f4c7d button.colab-df-convert');\n",
              "        buttonEl.style.display =\n",
              "          google.colab.kernel.accessAllowed ? 'block' : 'none';\n",
              "\n",
              "        async function convertToInteractive(key) {\n",
              "          const element = document.querySelector('#df-c81cfb2e-929d-41dd-8c62-4159810f4c7d');\n",
              "          const dataTable =\n",
              "            await google.colab.kernel.invokeFunction('convertToInteractive',\n",
              "                                                     [key], {});\n",
              "          if (!dataTable) return;\n",
              "\n",
              "          const docLinkHtml = 'Like what you see? Visit the ' +\n",
              "            '<a target=\"_blank\" href=https://colab.research.google.com/notebooks/data_table.ipynb>data table notebook</a>'\n",
              "            + ' to learn more about interactive tables.';\n",
              "          element.innerHTML = '';\n",
              "          dataTable['output_type'] = 'display_data';\n",
              "          await google.colab.output.renderOutput(dataTable, element);\n",
              "          const docLink = document.createElement('div');\n",
              "          docLink.innerHTML = docLinkHtml;\n",
              "          element.appendChild(docLink);\n",
              "        }\n",
              "      </script>\n",
              "    </div>\n",
              "  </div>\n",
              "  "
            ]
          },
          "metadata": {},
          "execution_count": 6
        }
      ]
    },
    {
      "cell_type": "markdown",
      "source": [
        "## Data Preprocessing"
      ],
      "metadata": {
        "id": "UqDXETsnXWey"
      }
    },
    {
      "cell_type": "markdown",
      "source": [
        "We removed the category column because it is not very useful for analysis."
      ],
      "metadata": {
        "id": "g23Km6m3WcpN"
      }
    },
    {
      "cell_type": "code",
      "source": [
        "food_data = food_data.drop(['Kategori'], axis = 1)\n",
        "food_data.head()"
      ],
      "metadata": {
        "id": "f2IPsCWnsg-4",
        "colab": {
          "base_uri": "https://localhost:8080/",
          "height": 206
        },
        "outputId": "b6901e2a-d2a7-4e29-e00a-6994209a7905"
      },
      "execution_count": null,
      "outputs": [
        {
          "output_type": "execute_result",
          "data": {
            "text/plain": [
              "      id      makanan  kalori  protein  lemak  karbohidrat vegan/nonvegan  \\\n",
              "0  M-001   ayam bakar   242.0     30.0   14.0         10.0      non-vegan   \n",
              "1  M-002  ayam geprek   240.0     24.0   15.0         12.0      non-vegan   \n",
              "2  M-003        Bakso   200.0     15.0   10.0         15.0          vegan   \n",
              "3  M-004    gado-gado   137.0      6.1    3.2         21.0          vegan   \n",
              "4  M-005     Mie ayam   102.0      6.2    3.9         10.5          vegan   \n",
              "\n",
              "                           tag  \n",
              "0       panggang, gurih, manis  \n",
              "1                goreng, pedas  \n",
              "2  rebus, rempah, gurih, pedas  \n",
              "3         mentah, gurih, pedas  \n",
              "4            mie, rebus, gurih  "
            ],
            "text/html": [
              "\n",
              "  <div id=\"df-d59b8919-5aad-4f9c-8672-094f4f686989\">\n",
              "    <div class=\"colab-df-container\">\n",
              "      <div>\n",
              "<style scoped>\n",
              "    .dataframe tbody tr th:only-of-type {\n",
              "        vertical-align: middle;\n",
              "    }\n",
              "\n",
              "    .dataframe tbody tr th {\n",
              "        vertical-align: top;\n",
              "    }\n",
              "\n",
              "    .dataframe thead th {\n",
              "        text-align: right;\n",
              "    }\n",
              "</style>\n",
              "<table border=\"1\" class=\"dataframe\">\n",
              "  <thead>\n",
              "    <tr style=\"text-align: right;\">\n",
              "      <th></th>\n",
              "      <th>id</th>\n",
              "      <th>makanan</th>\n",
              "      <th>kalori</th>\n",
              "      <th>protein</th>\n",
              "      <th>lemak</th>\n",
              "      <th>karbohidrat</th>\n",
              "      <th>vegan/nonvegan</th>\n",
              "      <th>tag</th>\n",
              "    </tr>\n",
              "  </thead>\n",
              "  <tbody>\n",
              "    <tr>\n",
              "      <th>0</th>\n",
              "      <td>M-001</td>\n",
              "      <td>ayam bakar</td>\n",
              "      <td>242.0</td>\n",
              "      <td>30.0</td>\n",
              "      <td>14.0</td>\n",
              "      <td>10.0</td>\n",
              "      <td>non-vegan</td>\n",
              "      <td>panggang, gurih, manis</td>\n",
              "    </tr>\n",
              "    <tr>\n",
              "      <th>1</th>\n",
              "      <td>M-002</td>\n",
              "      <td>ayam geprek</td>\n",
              "      <td>240.0</td>\n",
              "      <td>24.0</td>\n",
              "      <td>15.0</td>\n",
              "      <td>12.0</td>\n",
              "      <td>non-vegan</td>\n",
              "      <td>goreng, pedas</td>\n",
              "    </tr>\n",
              "    <tr>\n",
              "      <th>2</th>\n",
              "      <td>M-003</td>\n",
              "      <td>Bakso</td>\n",
              "      <td>200.0</td>\n",
              "      <td>15.0</td>\n",
              "      <td>10.0</td>\n",
              "      <td>15.0</td>\n",
              "      <td>vegan</td>\n",
              "      <td>rebus, rempah, gurih, pedas</td>\n",
              "    </tr>\n",
              "    <tr>\n",
              "      <th>3</th>\n",
              "      <td>M-004</td>\n",
              "      <td>gado-gado</td>\n",
              "      <td>137.0</td>\n",
              "      <td>6.1</td>\n",
              "      <td>3.2</td>\n",
              "      <td>21.0</td>\n",
              "      <td>vegan</td>\n",
              "      <td>mentah, gurih, pedas</td>\n",
              "    </tr>\n",
              "    <tr>\n",
              "      <th>4</th>\n",
              "      <td>M-005</td>\n",
              "      <td>Mie ayam</td>\n",
              "      <td>102.0</td>\n",
              "      <td>6.2</td>\n",
              "      <td>3.9</td>\n",
              "      <td>10.5</td>\n",
              "      <td>vegan</td>\n",
              "      <td>mie, rebus, gurih</td>\n",
              "    </tr>\n",
              "  </tbody>\n",
              "</table>\n",
              "</div>\n",
              "      <button class=\"colab-df-convert\" onclick=\"convertToInteractive('df-d59b8919-5aad-4f9c-8672-094f4f686989')\"\n",
              "              title=\"Convert this dataframe to an interactive table.\"\n",
              "              style=\"display:none;\">\n",
              "        \n",
              "  <svg xmlns=\"http://www.w3.org/2000/svg\" height=\"24px\"viewBox=\"0 0 24 24\"\n",
              "       width=\"24px\">\n",
              "    <path d=\"M0 0h24v24H0V0z\" fill=\"none\"/>\n",
              "    <path d=\"M18.56 5.44l.94 2.06.94-2.06 2.06-.94-2.06-.94-.94-2.06-.94 2.06-2.06.94zm-11 1L8.5 8.5l.94-2.06 2.06-.94-2.06-.94L8.5 2.5l-.94 2.06-2.06.94zm10 10l.94 2.06.94-2.06 2.06-.94-2.06-.94-.94-2.06-.94 2.06-2.06.94z\"/><path d=\"M17.41 7.96l-1.37-1.37c-.4-.4-.92-.59-1.43-.59-.52 0-1.04.2-1.43.59L10.3 9.45l-7.72 7.72c-.78.78-.78 2.05 0 2.83L4 21.41c.39.39.9.59 1.41.59.51 0 1.02-.2 1.41-.59l7.78-7.78 2.81-2.81c.8-.78.8-2.07 0-2.86zM5.41 20L4 18.59l7.72-7.72 1.47 1.35L5.41 20z\"/>\n",
              "  </svg>\n",
              "      </button>\n",
              "      \n",
              "  <style>\n",
              "    .colab-df-container {\n",
              "      display:flex;\n",
              "      flex-wrap:wrap;\n",
              "      gap: 12px;\n",
              "    }\n",
              "\n",
              "    .colab-df-convert {\n",
              "      background-color: #E8F0FE;\n",
              "      border: none;\n",
              "      border-radius: 50%;\n",
              "      cursor: pointer;\n",
              "      display: none;\n",
              "      fill: #1967D2;\n",
              "      height: 32px;\n",
              "      padding: 0 0 0 0;\n",
              "      width: 32px;\n",
              "    }\n",
              "\n",
              "    .colab-df-convert:hover {\n",
              "      background-color: #E2EBFA;\n",
              "      box-shadow: 0px 1px 2px rgba(60, 64, 67, 0.3), 0px 1px 3px 1px rgba(60, 64, 67, 0.15);\n",
              "      fill: #174EA6;\n",
              "    }\n",
              "\n",
              "    [theme=dark] .colab-df-convert {\n",
              "      background-color: #3B4455;\n",
              "      fill: #D2E3FC;\n",
              "    }\n",
              "\n",
              "    [theme=dark] .colab-df-convert:hover {\n",
              "      background-color: #434B5C;\n",
              "      box-shadow: 0px 1px 3px 1px rgba(0, 0, 0, 0.15);\n",
              "      filter: drop-shadow(0px 1px 2px rgba(0, 0, 0, 0.3));\n",
              "      fill: #FFFFFF;\n",
              "    }\n",
              "  </style>\n",
              "\n",
              "      <script>\n",
              "        const buttonEl =\n",
              "          document.querySelector('#df-d59b8919-5aad-4f9c-8672-094f4f686989 button.colab-df-convert');\n",
              "        buttonEl.style.display =\n",
              "          google.colab.kernel.accessAllowed ? 'block' : 'none';\n",
              "\n",
              "        async function convertToInteractive(key) {\n",
              "          const element = document.querySelector('#df-d59b8919-5aad-4f9c-8672-094f4f686989');\n",
              "          const dataTable =\n",
              "            await google.colab.kernel.invokeFunction('convertToInteractive',\n",
              "                                                     [key], {});\n",
              "          if (!dataTable) return;\n",
              "\n",
              "          const docLinkHtml = 'Like what you see? Visit the ' +\n",
              "            '<a target=\"_blank\" href=https://colab.research.google.com/notebooks/data_table.ipynb>data table notebook</a>'\n",
              "            + ' to learn more about interactive tables.';\n",
              "          element.innerHTML = '';\n",
              "          dataTable['output_type'] = 'display_data';\n",
              "          await google.colab.output.renderOutput(dataTable, element);\n",
              "          const docLink = document.createElement('div');\n",
              "          docLink.innerHTML = docLinkHtml;\n",
              "          element.appendChild(docLink);\n",
              "        }\n",
              "      </script>\n",
              "    </div>\n",
              "  </div>\n",
              "  "
            ]
          },
          "metadata": {},
          "execution_count": 12
        }
      ]
    },
    {
      "cell_type": "markdown",
      "source": [
        "We created a new feature, 'tag_makanan' which is obtained from the merger between the 'vegan/nonvegan' column and the 'tag' column. this is done to collect all the information about food which will be matched to the user's preference data. after that, we chose the columns that will be used as food datasets, these columns are 'makanan', 'kalori', 'protein', 'lemak', 'karbohidrat', 'tag_makanan'."
      ],
      "metadata": {
        "id": "a264fOTfXjbL"
      }
    },
    {
      "cell_type": "code",
      "source": [
        "food_data['tag_makanan'] = ''\n",
        "for index, row in food_data.iterrows():\n",
        "    vegan = ' '.join(row['vegan/nonvegan'].split(',')).lower()\n",
        "    tag = ' '.join(row['tag'].replace(' ', '').split(',')).lower()\n",
        "    food_data.at[index, 'tag_makanan'] = vegan + ' ' + tag\n",
        "\n",
        "\n",
        "\n",
        "food_data = food_data[['id','makanan', 'kalori', 'protein', 'lemak', 'karbohidrat', 'tag_makanan']]\n",
        "food_data\n"
      ],
      "metadata": {
        "colab": {
          "base_uri": "https://localhost:8080/",
          "height": 424
        },
        "id": "8RPPPEi3uz41",
        "outputId": "a4864c6e-1727-4252-cfc9-22c32708e115"
      },
      "execution_count": null,
      "outputs": [
        {
          "output_type": "execute_result",
          "data": {
            "text/plain": [
              "       id                makanan  kalori  protein  lemak  karbohidrat  \\\n",
              "0   M-001             ayam bakar   242.0     30.0   14.0         10.0   \n",
              "1   M-002            ayam geprek   240.0     24.0   15.0         12.0   \n",
              "2   M-003                  Bakso   200.0     15.0   10.0         15.0   \n",
              "3   M-004              gado-gado   137.0      6.1    3.2         21.0   \n",
              "4   M-005               Mie ayam   102.0      6.2    3.9         10.5   \n",
              "..    ...                    ...     ...      ...    ...          ...   \n",
              "72  M-073       Telur ayam dadar    61.9    251.0   16.3         19.4   \n",
              "73  M-074      Telur bebek dadar    55.1    301.0   20.0         23.7   \n",
              "74  M-075     Tempe pasar goreng   336.0     20.0   28.0          7.8   \n",
              "75  M-076            Teri balado    25.8    365.0   23.7         22.3   \n",
              "76  M-077  Tumis bayam bersantan    48.0      1.4    4.2          2.6   \n",
              "\n",
              "                       tag_makanan  \n",
              "0   non-vegan panggang gurih manis  \n",
              "1           non-vegan goreng pedas  \n",
              "2   vegan rebus rempah gurih pedas  \n",
              "3         vegan mentah gurih pedas  \n",
              "4            vegan mie rebus gurih  \n",
              "..                             ...  \n",
              "72          non-vegan goreng gurih  \n",
              "73          non-vegan goreng gurih  \n",
              "74              vegan goreng gurih  \n",
              "75     non-vegan goreng asin gurih  \n",
              "76          vegan tumis asin gurih  \n",
              "\n",
              "[77 rows x 7 columns]"
            ],
            "text/html": [
              "\n",
              "  <div id=\"df-2deba7d3-b2b7-4f9e-a5c9-2afcc5e56757\">\n",
              "    <div class=\"colab-df-container\">\n",
              "      <div>\n",
              "<style scoped>\n",
              "    .dataframe tbody tr th:only-of-type {\n",
              "        vertical-align: middle;\n",
              "    }\n",
              "\n",
              "    .dataframe tbody tr th {\n",
              "        vertical-align: top;\n",
              "    }\n",
              "\n",
              "    .dataframe thead th {\n",
              "        text-align: right;\n",
              "    }\n",
              "</style>\n",
              "<table border=\"1\" class=\"dataframe\">\n",
              "  <thead>\n",
              "    <tr style=\"text-align: right;\">\n",
              "      <th></th>\n",
              "      <th>id</th>\n",
              "      <th>makanan</th>\n",
              "      <th>kalori</th>\n",
              "      <th>protein</th>\n",
              "      <th>lemak</th>\n",
              "      <th>karbohidrat</th>\n",
              "      <th>tag_makanan</th>\n",
              "    </tr>\n",
              "  </thead>\n",
              "  <tbody>\n",
              "    <tr>\n",
              "      <th>0</th>\n",
              "      <td>M-001</td>\n",
              "      <td>ayam bakar</td>\n",
              "      <td>242.0</td>\n",
              "      <td>30.0</td>\n",
              "      <td>14.0</td>\n",
              "      <td>10.0</td>\n",
              "      <td>non-vegan panggang gurih manis</td>\n",
              "    </tr>\n",
              "    <tr>\n",
              "      <th>1</th>\n",
              "      <td>M-002</td>\n",
              "      <td>ayam geprek</td>\n",
              "      <td>240.0</td>\n",
              "      <td>24.0</td>\n",
              "      <td>15.0</td>\n",
              "      <td>12.0</td>\n",
              "      <td>non-vegan goreng pedas</td>\n",
              "    </tr>\n",
              "    <tr>\n",
              "      <th>2</th>\n",
              "      <td>M-003</td>\n",
              "      <td>Bakso</td>\n",
              "      <td>200.0</td>\n",
              "      <td>15.0</td>\n",
              "      <td>10.0</td>\n",
              "      <td>15.0</td>\n",
              "      <td>vegan rebus rempah gurih pedas</td>\n",
              "    </tr>\n",
              "    <tr>\n",
              "      <th>3</th>\n",
              "      <td>M-004</td>\n",
              "      <td>gado-gado</td>\n",
              "      <td>137.0</td>\n",
              "      <td>6.1</td>\n",
              "      <td>3.2</td>\n",
              "      <td>21.0</td>\n",
              "      <td>vegan mentah gurih pedas</td>\n",
              "    </tr>\n",
              "    <tr>\n",
              "      <th>4</th>\n",
              "      <td>M-005</td>\n",
              "      <td>Mie ayam</td>\n",
              "      <td>102.0</td>\n",
              "      <td>6.2</td>\n",
              "      <td>3.9</td>\n",
              "      <td>10.5</td>\n",
              "      <td>vegan mie rebus gurih</td>\n",
              "    </tr>\n",
              "    <tr>\n",
              "      <th>...</th>\n",
              "      <td>...</td>\n",
              "      <td>...</td>\n",
              "      <td>...</td>\n",
              "      <td>...</td>\n",
              "      <td>...</td>\n",
              "      <td>...</td>\n",
              "      <td>...</td>\n",
              "    </tr>\n",
              "    <tr>\n",
              "      <th>72</th>\n",
              "      <td>M-073</td>\n",
              "      <td>Telur ayam dadar</td>\n",
              "      <td>61.9</td>\n",
              "      <td>251.0</td>\n",
              "      <td>16.3</td>\n",
              "      <td>19.4</td>\n",
              "      <td>non-vegan goreng gurih</td>\n",
              "    </tr>\n",
              "    <tr>\n",
              "      <th>73</th>\n",
              "      <td>M-074</td>\n",
              "      <td>Telur bebek dadar</td>\n",
              "      <td>55.1</td>\n",
              "      <td>301.0</td>\n",
              "      <td>20.0</td>\n",
              "      <td>23.7</td>\n",
              "      <td>non-vegan goreng gurih</td>\n",
              "    </tr>\n",
              "    <tr>\n",
              "      <th>74</th>\n",
              "      <td>M-075</td>\n",
              "      <td>Tempe pasar goreng</td>\n",
              "      <td>336.0</td>\n",
              "      <td>20.0</td>\n",
              "      <td>28.0</td>\n",
              "      <td>7.8</td>\n",
              "      <td>vegan goreng gurih</td>\n",
              "    </tr>\n",
              "    <tr>\n",
              "      <th>75</th>\n",
              "      <td>M-076</td>\n",
              "      <td>Teri balado</td>\n",
              "      <td>25.8</td>\n",
              "      <td>365.0</td>\n",
              "      <td>23.7</td>\n",
              "      <td>22.3</td>\n",
              "      <td>non-vegan goreng asin gurih</td>\n",
              "    </tr>\n",
              "    <tr>\n",
              "      <th>76</th>\n",
              "      <td>M-077</td>\n",
              "      <td>Tumis bayam bersantan</td>\n",
              "      <td>48.0</td>\n",
              "      <td>1.4</td>\n",
              "      <td>4.2</td>\n",
              "      <td>2.6</td>\n",
              "      <td>vegan tumis asin gurih</td>\n",
              "    </tr>\n",
              "  </tbody>\n",
              "</table>\n",
              "<p>77 rows × 7 columns</p>\n",
              "</div>\n",
              "      <button class=\"colab-df-convert\" onclick=\"convertToInteractive('df-2deba7d3-b2b7-4f9e-a5c9-2afcc5e56757')\"\n",
              "              title=\"Convert this dataframe to an interactive table.\"\n",
              "              style=\"display:none;\">\n",
              "        \n",
              "  <svg xmlns=\"http://www.w3.org/2000/svg\" height=\"24px\"viewBox=\"0 0 24 24\"\n",
              "       width=\"24px\">\n",
              "    <path d=\"M0 0h24v24H0V0z\" fill=\"none\"/>\n",
              "    <path d=\"M18.56 5.44l.94 2.06.94-2.06 2.06-.94-2.06-.94-.94-2.06-.94 2.06-2.06.94zm-11 1L8.5 8.5l.94-2.06 2.06-.94-2.06-.94L8.5 2.5l-.94 2.06-2.06.94zm10 10l.94 2.06.94-2.06 2.06-.94-2.06-.94-.94-2.06-.94 2.06-2.06.94z\"/><path d=\"M17.41 7.96l-1.37-1.37c-.4-.4-.92-.59-1.43-.59-.52 0-1.04.2-1.43.59L10.3 9.45l-7.72 7.72c-.78.78-.78 2.05 0 2.83L4 21.41c.39.39.9.59 1.41.59.51 0 1.02-.2 1.41-.59l7.78-7.78 2.81-2.81c.8-.78.8-2.07 0-2.86zM5.41 20L4 18.59l7.72-7.72 1.47 1.35L5.41 20z\"/>\n",
              "  </svg>\n",
              "      </button>\n",
              "      \n",
              "  <style>\n",
              "    .colab-df-container {\n",
              "      display:flex;\n",
              "      flex-wrap:wrap;\n",
              "      gap: 12px;\n",
              "    }\n",
              "\n",
              "    .colab-df-convert {\n",
              "      background-color: #E8F0FE;\n",
              "      border: none;\n",
              "      border-radius: 50%;\n",
              "      cursor: pointer;\n",
              "      display: none;\n",
              "      fill: #1967D2;\n",
              "      height: 32px;\n",
              "      padding: 0 0 0 0;\n",
              "      width: 32px;\n",
              "    }\n",
              "\n",
              "    .colab-df-convert:hover {\n",
              "      background-color: #E2EBFA;\n",
              "      box-shadow: 0px 1px 2px rgba(60, 64, 67, 0.3), 0px 1px 3px 1px rgba(60, 64, 67, 0.15);\n",
              "      fill: #174EA6;\n",
              "    }\n",
              "\n",
              "    [theme=dark] .colab-df-convert {\n",
              "      background-color: #3B4455;\n",
              "      fill: #D2E3FC;\n",
              "    }\n",
              "\n",
              "    [theme=dark] .colab-df-convert:hover {\n",
              "      background-color: #434B5C;\n",
              "      box-shadow: 0px 1px 3px 1px rgba(0, 0, 0, 0.15);\n",
              "      filter: drop-shadow(0px 1px 2px rgba(0, 0, 0, 0.3));\n",
              "      fill: #FFFFFF;\n",
              "    }\n",
              "  </style>\n",
              "\n",
              "      <script>\n",
              "        const buttonEl =\n",
              "          document.querySelector('#df-2deba7d3-b2b7-4f9e-a5c9-2afcc5e56757 button.colab-df-convert');\n",
              "        buttonEl.style.display =\n",
              "          google.colab.kernel.accessAllowed ? 'block' : 'none';\n",
              "\n",
              "        async function convertToInteractive(key) {\n",
              "          const element = document.querySelector('#df-2deba7d3-b2b7-4f9e-a5c9-2afcc5e56757');\n",
              "          const dataTable =\n",
              "            await google.colab.kernel.invokeFunction('convertToInteractive',\n",
              "                                                     [key], {});\n",
              "          if (!dataTable) return;\n",
              "\n",
              "          const docLinkHtml = 'Like what you see? Visit the ' +\n",
              "            '<a target=\"_blank\" href=https://colab.research.google.com/notebooks/data_table.ipynb>data table notebook</a>'\n",
              "            + ' to learn more about interactive tables.';\n",
              "          element.innerHTML = '';\n",
              "          dataTable['output_type'] = 'display_data';\n",
              "          await google.colab.output.renderOutput(dataTable, element);\n",
              "          const docLink = document.createElement('div');\n",
              "          docLink.innerHTML = docLinkHtml;\n",
              "          element.appendChild(docLink);\n",
              "        }\n",
              "      </script>\n",
              "    </div>\n",
              "  </div>\n",
              "  "
            ]
          },
          "metadata": {},
          "execution_count": 14
        }
      ]
    },
    {
      "cell_type": "code",
      "source": [
        "food_data.to_csv('food_data_final.csv')"
      ],
      "metadata": {
        "id": "CUsfiTQtA0Jp"
      },
      "execution_count": null,
      "outputs": []
    },
    {
      "cell_type": "markdown",
      "source": [
        "## Making Recommendations\n",
        "We use the KNN (K-Nearest Neighbors) model to provide food recommendations to users according to their preferences. To determine a user's preference, we utilize their food history data, meanwhile, for training our KNN model we use food tag feature from food dataset. By calculating the cosine distance between the preference vector and the food data, we identify the nearest neighbor to the user's preference. Subsequently, we select the top 4 foods based on the obtained index, ensuring that users receive food recommendations that align with their preferences."
      ],
      "metadata": {
        "id": "Ockly8R9d0hb"
      }
    },
    {
      "cell_type": "markdown",
      "source": [
        "### Create and Train the Model\n",
        "First, we take the 'tag_makanan' feature from the food data and convert it into a vector using the TfidfVectorizer. Then, we convert the vector into an array. This array will be used as input for the KNN model."
      ],
      "metadata": {
        "id": "dg3cNzXQU6fd"
      }
    },
    {
      "cell_type": "code",
      "source": [
        "features = food_data['tag_makanan']\n",
        "vectorizer = TfidfVectorizer()\n",
        "tf_idf_tag = vectorizer.fit_transform(features)\n",
        "\n",
        "to_array = [v.toarray() for v in tf_idf_tag]\n",
        "tf_idf_tag_array = np.concatenate(to_array, axis=0)"
      ],
      "metadata": {
        "id": "MKMaq8XquMg1"
      },
      "execution_count": null,
      "outputs": []
    },
    {
      "cell_type": "markdown",
      "source": [
        "Next, we created a K-NN model by setting the number of nearest neighbors (n_neighbors) to 4 and we use 'cosine' metric. We train the model with the array from the previous step."
      ],
      "metadata": {
        "id": "2mjSXZBirmZW"
      }
    },
    {
      "cell_type": "code",
      "source": [
        "model = NearestNeighbors(n_neighbors=4, metric = 'cosine')\n",
        "\n",
        "\n",
        "model.fit(tf_idf_tag_array)"
      ],
      "metadata": {
        "id": "qMk1hj2pwibU",
        "colab": {
          "base_uri": "https://localhost:8080/",
          "height": 75
        },
        "outputId": "5375ec9f-2405-40ea-a654-682924768a4e"
      },
      "execution_count": null,
      "outputs": [
        {
          "output_type": "execute_result",
          "data": {
            "text/plain": [
              "NearestNeighbors(metric='cosine', n_neighbors=4)"
            ],
            "text/html": [
              "<style>#sk-container-id-1 {color: black;background-color: white;}#sk-container-id-1 pre{padding: 0;}#sk-container-id-1 div.sk-toggleable {background-color: white;}#sk-container-id-1 label.sk-toggleable__label {cursor: pointer;display: block;width: 100%;margin-bottom: 0;padding: 0.3em;box-sizing: border-box;text-align: center;}#sk-container-id-1 label.sk-toggleable__label-arrow:before {content: \"▸\";float: left;margin-right: 0.25em;color: #696969;}#sk-container-id-1 label.sk-toggleable__label-arrow:hover:before {color: black;}#sk-container-id-1 div.sk-estimator:hover label.sk-toggleable__label-arrow:before {color: black;}#sk-container-id-1 div.sk-toggleable__content {max-height: 0;max-width: 0;overflow: hidden;text-align: left;background-color: #f0f8ff;}#sk-container-id-1 div.sk-toggleable__content pre {margin: 0.2em;color: black;border-radius: 0.25em;background-color: #f0f8ff;}#sk-container-id-1 input.sk-toggleable__control:checked~div.sk-toggleable__content {max-height: 200px;max-width: 100%;overflow: auto;}#sk-container-id-1 input.sk-toggleable__control:checked~label.sk-toggleable__label-arrow:before {content: \"▾\";}#sk-container-id-1 div.sk-estimator input.sk-toggleable__control:checked~label.sk-toggleable__label {background-color: #d4ebff;}#sk-container-id-1 div.sk-label input.sk-toggleable__control:checked~label.sk-toggleable__label {background-color: #d4ebff;}#sk-container-id-1 input.sk-hidden--visually {border: 0;clip: rect(1px 1px 1px 1px);clip: rect(1px, 1px, 1px, 1px);height: 1px;margin: -1px;overflow: hidden;padding: 0;position: absolute;width: 1px;}#sk-container-id-1 div.sk-estimator {font-family: monospace;background-color: #f0f8ff;border: 1px dotted black;border-radius: 0.25em;box-sizing: border-box;margin-bottom: 0.5em;}#sk-container-id-1 div.sk-estimator:hover {background-color: #d4ebff;}#sk-container-id-1 div.sk-parallel-item::after {content: \"\";width: 100%;border-bottom: 1px solid gray;flex-grow: 1;}#sk-container-id-1 div.sk-label:hover label.sk-toggleable__label {background-color: #d4ebff;}#sk-container-id-1 div.sk-serial::before {content: \"\";position: absolute;border-left: 1px solid gray;box-sizing: border-box;top: 0;bottom: 0;left: 50%;z-index: 0;}#sk-container-id-1 div.sk-serial {display: flex;flex-direction: column;align-items: center;background-color: white;padding-right: 0.2em;padding-left: 0.2em;position: relative;}#sk-container-id-1 div.sk-item {position: relative;z-index: 1;}#sk-container-id-1 div.sk-parallel {display: flex;align-items: stretch;justify-content: center;background-color: white;position: relative;}#sk-container-id-1 div.sk-item::before, #sk-container-id-1 div.sk-parallel-item::before {content: \"\";position: absolute;border-left: 1px solid gray;box-sizing: border-box;top: 0;bottom: 0;left: 50%;z-index: -1;}#sk-container-id-1 div.sk-parallel-item {display: flex;flex-direction: column;z-index: 1;position: relative;background-color: white;}#sk-container-id-1 div.sk-parallel-item:first-child::after {align-self: flex-end;width: 50%;}#sk-container-id-1 div.sk-parallel-item:last-child::after {align-self: flex-start;width: 50%;}#sk-container-id-1 div.sk-parallel-item:only-child::after {width: 0;}#sk-container-id-1 div.sk-dashed-wrapped {border: 1px dashed gray;margin: 0 0.4em 0.5em 0.4em;box-sizing: border-box;padding-bottom: 0.4em;background-color: white;}#sk-container-id-1 div.sk-label label {font-family: monospace;font-weight: bold;display: inline-block;line-height: 1.2em;}#sk-container-id-1 div.sk-label-container {text-align: center;}#sk-container-id-1 div.sk-container {/* jupyter's `normalize.less` sets `[hidden] { display: none; }` but bootstrap.min.css set `[hidden] { display: none !important; }` so we also need the `!important` here to be able to override the default hidden behavior on the sphinx rendered scikit-learn.org. See: https://github.com/scikit-learn/scikit-learn/issues/21755 */display: inline-block !important;position: relative;}#sk-container-id-1 div.sk-text-repr-fallback {display: none;}</style><div id=\"sk-container-id-1\" class=\"sk-top-container\"><div class=\"sk-text-repr-fallback\"><pre>NearestNeighbors(metric=&#x27;cosine&#x27;, n_neighbors=4)</pre><b>In a Jupyter environment, please rerun this cell to show the HTML representation or trust the notebook. <br />On GitHub, the HTML representation is unable to render, please try loading this page with nbviewer.org.</b></div><div class=\"sk-container\" hidden><div class=\"sk-item\"><div class=\"sk-estimator sk-toggleable\"><input class=\"sk-toggleable__control sk-hidden--visually\" id=\"sk-estimator-id-1\" type=\"checkbox\" checked><label for=\"sk-estimator-id-1\" class=\"sk-toggleable__label sk-toggleable__label-arrow\">NearestNeighbors</label><div class=\"sk-toggleable__content\"><pre>NearestNeighbors(metric=&#x27;cosine&#x27;, n_neighbors=4)</pre></div></div></div></div></div>"
            ]
          },
          "metadata": {},
          "execution_count": 16
        }
      ]
    },
    {
      "cell_type": "markdown",
      "source": [
        "### Test The Model"
      ],
      "metadata": {
        "id": "VsSKnZOQ8ufh"
      }
    },
    {
      "cell_type": "markdown",
      "source": [
        "To determine the user's preference, we use the user's food history data stored in the user_history_meals dictionary. We set a threshold of 2, and if the amount of food consumption exceeds the threshold, the food will be the user's preference."
      ],
      "metadata": {
        "id": "nHhYlL7wjrvc"
      }
    },
    {
      "cell_type": "code",
      "source": [
        "user_history_meals = {\n",
        "    \"pedas\": 2,\n",
        "    \"gurih\": 3,\n",
        "    \"rebus\": 1,\n",
        "    \"goreng\": 5\n",
        "}\n",
        "user_preference = []\n",
        "\n",
        "threshold = 2\n",
        "\n",
        "for key, value in user_history_meals.items():\n",
        "    if value > threshold:\n",
        "        user_preference.append(key)\n",
        "\n",
        "user_preference = ' '.join(user_preference)\n",
        "\n"
      ],
      "metadata": {
        "id": "l6Sls5D9sbAF"
      },
      "execution_count": null,
      "outputs": []
    },
    {
      "cell_type": "markdown",
      "source": [
        "Just like the previous step, we convert user preferences into vectors using the TfidfVectorizer. Then, we convert the vector into an array.\n",
        "\n",
        "After that, we use the trained model to find the closest food to the user's preferences, for which we use the kneighbors() method. This method returns a matrix of distances between the user's preferences and the tags of the foods, as well as the indices of the foods that are closest.\n",
        "\n",
        "Finally, we take the top 4 foods based on the indices found from the previous step."
      ],
      "metadata": {
        "id": "9iVW4hc2uvg1"
      }
    },
    {
      "cell_type": "code",
      "source": [
        "user_preference_tf_idf = vectorizer.transform([user_preference]).toarray()\n",
        "\n",
        "\n",
        "distances, indices = model.kneighbors(user_preference_tf_idf)\n",
        "\n",
        "top_4_food = food_data.iloc[indices[0]]\n",
        "\n",
        "top_4_food"
      ],
      "metadata": {
        "colab": {
          "base_uri": "https://localhost:8080/",
          "height": 175
        },
        "id": "Bt0HBcXWts2d",
        "outputId": "18d7cee2-50c7-4492-a791-c8b69c38af20"
      },
      "execution_count": null,
      "outputs": [
        {
          "output_type": "execute_result",
          "data": {
            "text/plain": [
              "       id             makanan  kalori  protein  lemak  karbohidrat  \\\n",
              "74  M-075  Tempe pasar goreng   336.0     20.0   28.0          7.8   \n",
              "11  M-012              Bakwan   280.0      8.2   10.2         39.0   \n",
              "69  M-070        Taoge goreng    79.2     88.0    3.2          2.1   \n",
              "67  M-068         Tahu goreng   115.0      9.7    8.5          2.5   \n",
              "\n",
              "           tag_makanan  \n",
              "74  vegan goreng gurih  \n",
              "11  vegan goreng gurih  \n",
              "69  vegan goreng gurih  \n",
              "67  vegan goreng gurih  "
            ],
            "text/html": [
              "\n",
              "  <div id=\"df-6ca7cd5e-d35b-4e75-bfa2-541248236f41\">\n",
              "    <div class=\"colab-df-container\">\n",
              "      <div>\n",
              "<style scoped>\n",
              "    .dataframe tbody tr th:only-of-type {\n",
              "        vertical-align: middle;\n",
              "    }\n",
              "\n",
              "    .dataframe tbody tr th {\n",
              "        vertical-align: top;\n",
              "    }\n",
              "\n",
              "    .dataframe thead th {\n",
              "        text-align: right;\n",
              "    }\n",
              "</style>\n",
              "<table border=\"1\" class=\"dataframe\">\n",
              "  <thead>\n",
              "    <tr style=\"text-align: right;\">\n",
              "      <th></th>\n",
              "      <th>id</th>\n",
              "      <th>makanan</th>\n",
              "      <th>kalori</th>\n",
              "      <th>protein</th>\n",
              "      <th>lemak</th>\n",
              "      <th>karbohidrat</th>\n",
              "      <th>tag_makanan</th>\n",
              "    </tr>\n",
              "  </thead>\n",
              "  <tbody>\n",
              "    <tr>\n",
              "      <th>74</th>\n",
              "      <td>M-075</td>\n",
              "      <td>Tempe pasar goreng</td>\n",
              "      <td>336.0</td>\n",
              "      <td>20.0</td>\n",
              "      <td>28.0</td>\n",
              "      <td>7.8</td>\n",
              "      <td>vegan goreng gurih</td>\n",
              "    </tr>\n",
              "    <tr>\n",
              "      <th>11</th>\n",
              "      <td>M-012</td>\n",
              "      <td>Bakwan</td>\n",
              "      <td>280.0</td>\n",
              "      <td>8.2</td>\n",
              "      <td>10.2</td>\n",
              "      <td>39.0</td>\n",
              "      <td>vegan goreng gurih</td>\n",
              "    </tr>\n",
              "    <tr>\n",
              "      <th>69</th>\n",
              "      <td>M-070</td>\n",
              "      <td>Taoge goreng</td>\n",
              "      <td>79.2</td>\n",
              "      <td>88.0</td>\n",
              "      <td>3.2</td>\n",
              "      <td>2.1</td>\n",
              "      <td>vegan goreng gurih</td>\n",
              "    </tr>\n",
              "    <tr>\n",
              "      <th>67</th>\n",
              "      <td>M-068</td>\n",
              "      <td>Tahu goreng</td>\n",
              "      <td>115.0</td>\n",
              "      <td>9.7</td>\n",
              "      <td>8.5</td>\n",
              "      <td>2.5</td>\n",
              "      <td>vegan goreng gurih</td>\n",
              "    </tr>\n",
              "  </tbody>\n",
              "</table>\n",
              "</div>\n",
              "      <button class=\"colab-df-convert\" onclick=\"convertToInteractive('df-6ca7cd5e-d35b-4e75-bfa2-541248236f41')\"\n",
              "              title=\"Convert this dataframe to an interactive table.\"\n",
              "              style=\"display:none;\">\n",
              "        \n",
              "  <svg xmlns=\"http://www.w3.org/2000/svg\" height=\"24px\"viewBox=\"0 0 24 24\"\n",
              "       width=\"24px\">\n",
              "    <path d=\"M0 0h24v24H0V0z\" fill=\"none\"/>\n",
              "    <path d=\"M18.56 5.44l.94 2.06.94-2.06 2.06-.94-2.06-.94-.94-2.06-.94 2.06-2.06.94zm-11 1L8.5 8.5l.94-2.06 2.06-.94-2.06-.94L8.5 2.5l-.94 2.06-2.06.94zm10 10l.94 2.06.94-2.06 2.06-.94-2.06-.94-.94-2.06-.94 2.06-2.06.94z\"/><path d=\"M17.41 7.96l-1.37-1.37c-.4-.4-.92-.59-1.43-.59-.52 0-1.04.2-1.43.59L10.3 9.45l-7.72 7.72c-.78.78-.78 2.05 0 2.83L4 21.41c.39.39.9.59 1.41.59.51 0 1.02-.2 1.41-.59l7.78-7.78 2.81-2.81c.8-.78.8-2.07 0-2.86zM5.41 20L4 18.59l7.72-7.72 1.47 1.35L5.41 20z\"/>\n",
              "  </svg>\n",
              "      </button>\n",
              "      \n",
              "  <style>\n",
              "    .colab-df-container {\n",
              "      display:flex;\n",
              "      flex-wrap:wrap;\n",
              "      gap: 12px;\n",
              "    }\n",
              "\n",
              "    .colab-df-convert {\n",
              "      background-color: #E8F0FE;\n",
              "      border: none;\n",
              "      border-radius: 50%;\n",
              "      cursor: pointer;\n",
              "      display: none;\n",
              "      fill: #1967D2;\n",
              "      height: 32px;\n",
              "      padding: 0 0 0 0;\n",
              "      width: 32px;\n",
              "    }\n",
              "\n",
              "    .colab-df-convert:hover {\n",
              "      background-color: #E2EBFA;\n",
              "      box-shadow: 0px 1px 2px rgba(60, 64, 67, 0.3), 0px 1px 3px 1px rgba(60, 64, 67, 0.15);\n",
              "      fill: #174EA6;\n",
              "    }\n",
              "\n",
              "    [theme=dark] .colab-df-convert {\n",
              "      background-color: #3B4455;\n",
              "      fill: #D2E3FC;\n",
              "    }\n",
              "\n",
              "    [theme=dark] .colab-df-convert:hover {\n",
              "      background-color: #434B5C;\n",
              "      box-shadow: 0px 1px 3px 1px rgba(0, 0, 0, 0.15);\n",
              "      filter: drop-shadow(0px 1px 2px rgba(0, 0, 0, 0.3));\n",
              "      fill: #FFFFFF;\n",
              "    }\n",
              "  </style>\n",
              "\n",
              "      <script>\n",
              "        const buttonEl =\n",
              "          document.querySelector('#df-6ca7cd5e-d35b-4e75-bfa2-541248236f41 button.colab-df-convert');\n",
              "        buttonEl.style.display =\n",
              "          google.colab.kernel.accessAllowed ? 'block' : 'none';\n",
              "\n",
              "        async function convertToInteractive(key) {\n",
              "          const element = document.querySelector('#df-6ca7cd5e-d35b-4e75-bfa2-541248236f41');\n",
              "          const dataTable =\n",
              "            await google.colab.kernel.invokeFunction('convertToInteractive',\n",
              "                                                     [key], {});\n",
              "          if (!dataTable) return;\n",
              "\n",
              "          const docLinkHtml = 'Like what you see? Visit the ' +\n",
              "            '<a target=\"_blank\" href=https://colab.research.google.com/notebooks/data_table.ipynb>data table notebook</a>'\n",
              "            + ' to learn more about interactive tables.';\n",
              "          element.innerHTML = '';\n",
              "          dataTable['output_type'] = 'display_data';\n",
              "          await google.colab.output.renderOutput(dataTable, element);\n",
              "          const docLink = document.createElement('div');\n",
              "          docLink.innerHTML = docLinkHtml;\n",
              "          element.appendChild(docLink);\n",
              "        }\n",
              "      </script>\n",
              "    </div>\n",
              "  </div>\n",
              "  "
            ]
          },
          "metadata": {},
          "execution_count": 18
        }
      ]
    },
    {
      "cell_type": "markdown",
      "source": [
        "## Save Model\n",
        "To deploy a model in a cloud environment, we typically save our model in a .pkl (pickle file). This pickle format allows us to store the model's parameters, architecture, and other necessary information. When there is a request to use the model, we can load the pickle file and initialize the model, making it ready for inference or prediction in the cloud environment."
      ],
      "metadata": {
        "id": "9_ErWQS00jcE"
      }
    },
    {
      "cell_type": "code",
      "source": [
        "import pickle as pkl\n",
        "\n",
        "with open('tfidf_model_fix.pkl', 'wb') as file:\n",
        "    pkl.dump(vectorizer, file)\n",
        "\n",
        "with open('knn_model_fix.pkl', 'wb') as file:\n",
        "    pkl.dump(model, file)"
      ],
      "metadata": {
        "id": "Djid8qTKbxfj"
      },
      "execution_count": null,
      "outputs": []
    }
  ]
}